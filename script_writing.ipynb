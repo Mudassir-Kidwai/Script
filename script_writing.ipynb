{
 "cells": [
  {
   "cell_type": "code",
   "execution_count": 89,
   "metadata": {},
   "outputs": [],
   "source": [
    "from pynput.keyboard import Key, Controller\n",
    "import time\n",
    "keyboard = Controller()\n",
    "\n",
    "f = open(\"Test File.txt\", \"r\")\n",
    "script = f.read()\n",
    "time.sleep(3)\n",
    "for i in script:\n",
    "    if(i == ' '):\n",
    "        keyboard.press(Key.enter)\n",
    "        keyboard.release(Key.enter)\n",
    "    else:\n",
    "        keyboard.press(i)\n",
    "        keyboard.release(i)\n",
    "keyboard.press(Key.enter)\n",
    "keyboard.release(Key.enter)\n",
    "        "
   ]
  },
  {
   "cell_type": "code",
   "execution_count": null,
   "metadata": {},
   "outputs": [],
   "source": []
  },
  {
   "cell_type": "code",
   "execution_count": null,
   "metadata": {},
   "outputs": [],
   "source": []
  }
 ],
 "metadata": {
  "kernelspec": {
   "display_name": "Python 3",
   "language": "python",
   "name": "python3"
  },
  "language_info": {
   "codemirror_mode": {
    "name": "ipython",
    "version": 3
   },
   "file_extension": ".py",
   "mimetype": "text/x-python",
   "name": "python",
   "nbconvert_exporter": "python",
   "pygments_lexer": "ipython3",
   "version": "3.7.3"
  }
 },
 "nbformat": 4,
 "nbformat_minor": 2
}
